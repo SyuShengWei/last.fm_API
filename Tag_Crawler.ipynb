{
 "cells": [
  {
   "cell_type": "code",
   "execution_count": 2,
   "metadata": {},
   "outputs": [],
   "source": [
    "import pylast \n",
    "import getpass"
   ]
  },
  {
   "cell_type": "code",
   "execution_count": 3,
   "metadata": {},
   "outputs": [
    {
     "name": "stdout",
     "output_type": "stream",
     "text": [
      "Username for last.fm : feather8405\n",
      "Password for last.fm : ········\n"
     ]
    }
   ],
   "source": [
    "API_KEY = \"63c0945b30f7a06a007ef4e4c600b279\"\n",
    "API_SECRET = \"075a8877a23e94dbca486a366d26870f\"\n",
    "username =      input(\"Username for last.fm : \")\n",
    "password_hash = pylast.md5(getpass.getpass(\"Password for last.fm : \"))"
   ]
  },
  {
   "cell_type": "code",
   "execution_count": 4,
   "metadata": {},
   "outputs": [],
   "source": [
    "network = pylast.LastFMNetwork(api_key = API_KEY, \n",
    "                               api_secret = API_SECRET, \n",
    "                               username = username, \n",
    "                               password_hash = password_hash)"
   ]
  },
  {
   "cell_type": "code",
   "execution_count": 5,
   "metadata": {},
   "outputs": [],
   "source": [
    "artist = network.get_artist(\"System of a Down\")"
   ]
  },
  {
   "cell_type": "code",
   "execution_count": 6,
   "metadata": {},
   "outputs": [],
   "source": [
    "Tags = network.get_top_tags(limit = 1000)"
   ]
  },
  {
   "cell_type": "code",
   "execution_count": 7,
   "metadata": {
    "scrolled": true
   },
   "outputs": [
    {
     "name": "stdout",
     "output_type": "stream",
     "text": [
      "rock\n",
      "electronic\n",
      "seen live\n",
      "alternative\n",
      "indie\n",
      "pop\n",
      "female vocalists\n",
      "metal\n",
      "alternative rock\n",
      "classic rock\n",
      "jazz\n",
      "experimental\n",
      "ambient\n",
      "folk\n",
      "punk\n",
      "indie rock\n",
      "Hip-Hop\n",
      "hard rock\n",
      "instrumental\n",
      "singer-songwriter\n",
      "black metal\n",
      "dance\n",
      "80s\n",
      "Progressive rock\n",
      "death metal\n",
      "british\n",
      "hardcore\n",
      "heavy metal\n",
      "soul\n",
      "chillout\n",
      "electronica\n",
      "Classical\n",
      "Soundtrack\n",
      "industrial\n",
      "blues\n",
      "rap\n",
      "punk rock\n",
      "thrash metal\n",
      "acoustic\n",
      "psychedelic\n",
      "metalcore\n",
      "90s\n",
      "japanese\n",
      "post-rock\n",
      "german\n",
      "Progressive metal\n",
      "funk\n",
      "hip hop\n",
      "new wave\n",
      "trance\n"
     ]
    }
   ],
   "source": [
    "for tag in Tags:\n",
    "    print(tag.item.get_name())"
   ]
  },
  {
   "cell_type": "code",
   "execution_count": 8,
   "metadata": {},
   "outputs": [],
   "source": [
    "tk = network.get_track(\"the Gazette\",\"cassis\")"
   ]
  },
  {
   "cell_type": "code",
   "execution_count": 9,
   "metadata": {},
   "outputs": [
    {
     "name": "stdout",
     "output_type": "stream",
     "text": [
      "J-rock\n",
      "visual kei\n",
      "the gazette\n",
      "japanese\n",
      "jrock\n",
      "gazerock\n",
      "rock\n",
      "japanese rock\n",
      "cassis\n",
      "<3\n",
      "visual\n",
      "PS Company\n",
      "Gazette\n",
      "alternative\n",
      "alternative rock\n",
      "Awesome\n",
      "Asian\n",
      "Favourite Songs\n",
      "Japanese music\n",
      "J-Metal\n",
      "j rock\n",
      "J-music\n",
      "love of loves\n",
      "metal\n",
      "Love\n",
      "beautiful\n",
      "japan\n",
      "eroguro\n",
      "asian music\n",
      "PSC\n",
      "aoi\n",
      "GAZEROCK IS NOT DEAD\n",
      "song i could die for\n",
      "male\n",
      "pop\n",
      "emo\n",
      "rap\n",
      "sad\n",
      "hard rock\n",
      "Progressive rock\n",
      "cute\n",
      "romantic\n",
      "RockPop\n",
      "JPop\n",
      "my love\n",
      "emotional\n",
      "glam rock\n",
      "band\n",
      "00s\n",
      "4\n",
      "fav\n",
      "brilliant\n",
      "love at first listen\n",
      "rock ballad\n",
      "male vocals\n",
      "FUCKING AWESOME\n",
      "Songs Seen Live\n",
      "poprock\n",
      "asia\n",
      "group\n",
      "graceful\n",
      "boy band\n",
      "outro\n",
      "Japanese Artists\n",
      "Love this song\n",
      "jmetal\n",
      "Favourite song\n",
      "Jmusic\n",
      "All time favourite\n",
      "Special meaning\n",
      "luv\n",
      "Visual-kei\n",
      "Visual Kai\n",
      "asian rock\n",
      "Indies\n",
      "liebeskummer\n",
      "sun is shining\n",
      "major\n",
      "The Greatest Songs Ever\n",
      "vkei\n",
      "kai\n",
      "will love forever\n",
      "japanese visual kei\n",
      "022\n",
      "reita\n",
      "ruki\n",
      "nil\n",
      "viciantes\n",
      "Amo esta cancion\n",
      "Uraha\n",
      "gebrochenes Herz\n",
      "special mean\n",
      "in Gedanken an SIE\n",
      "the gazettE visualkei\n",
      "gazzete\n",
      "The-GazettE\n",
      "drive slowly\n",
      "home paty\n"
     ]
    }
   ],
   "source": [
    "for tag in tk.get_top_tags():\n",
    "    print(tag.item.get_name())"
   ]
  },
  {
   "cell_type": "code",
   "execution_count": 79,
   "metadata": {},
   "outputs": [],
   "source": [
    "artist = network.get_artist(\"五月天\")"
   ]
  },
  {
   "cell_type": "code",
   "execution_count": 80,
   "metadata": {},
   "outputs": [],
   "source": [
    "Tracks = artist.get_top_tracks(100)"
   ]
  },
  {
   "cell_type": "code",
   "execution_count": 81,
   "metadata": {},
   "outputs": [],
   "source": [
    "ALL_Tags = []"
   ]
  },
  {
   "cell_type": "code",
   "execution_count": 73,
   "metadata": {},
   "outputs": [
    {
     "name": "stdout",
     "output_type": "stream",
     "text": [
      "Basket Case\n",
      "Boulevard of Broken Dreams\n",
      "Wake Me Up When September Ends\n",
      "American Idiot\n",
      "Good Riddance (Time of Your Life)\n",
      "Holiday\n",
      "When I Come Around\n",
      "21 Guns\n",
      "Welcome to Paradise\n",
      "Jesus of Suburbia\n",
      "She\n",
      "Longview\n",
      "St. Jimmy\n",
      "Are We the Waiting\n",
      "She's a Rebel\n",
      "Give Me Novacaine\n",
      "Whatsername\n",
      "Brain Stew\n",
      "Extraordinary Girl\n",
      "Letterbomb\n",
      "Minority\n",
      "Know Your Enemy\n",
      "Burnout\n",
      "Warning\n",
      "Hitchin' a Ride\n",
      "Having a Blast\n",
      "Chump\n",
      "Coming Clean\n",
      "Nice Guys Finish Last\n",
      "Homecoming\n",
      "Pulling Teeth\n",
      "Sassafras Roots\n",
      "In the End\n",
      "Emenius Sleepus\n",
      "21st Century Breakdown\n",
      "Waiting\n",
      "Last of the American Girls\n",
      "Geek Stink Breath\n",
      "Redundant\n",
      "¡Viva la Gloria!\n",
      "Walking Contradiction\n",
      "Jaded\n",
      "Holiday/Boulevard Of Broken Dreams\n",
      "East Jesus Nowhere\n",
      "Song of the Century\n",
      "Stuck With Me\n",
      "Macy's Day Parade\n",
      "Last Night on Earth\n",
      "Before the Lobotomy\n",
      "Peacemaker\n",
      "Christian's Inferno\n",
      "Murder City\n",
      "F.O.D.\n",
      "Restless Heart Syndrome\n",
      "Horseshoes and Handgrenades\n",
      "The Static Age\n",
      "The Grouch\n",
      "King for a Day\n",
      "See the Light\n",
      "Working Class Hero\n",
      "Scattered\n",
      "All the Time\n",
      "Worry Rock\n",
      "Church on Sunday\n",
      "Castaway\n",
      "Maria\n",
      "¿Viva la Gloria? (Little Girl)\n",
      "Oh Love\n",
      "Armatage Shanks\n",
      "Walking Alone\n",
      "Misery\n",
      "Uptight\n",
      "Brat\n",
      "Fashion Victim\n",
      "Jinx\n",
      "Prosthetic Head\n",
      "Blood, Sex and Booze\n",
      "86\n",
      "Haushinka\n",
      "Last Ride In\n",
      "Platypus (I Hate You)\n",
      "Reject\n",
      "No Pride\n",
      "Take Back\n",
      "Hold On\n",
      "Panic Song\n",
      "Kill the DJ\n",
      "Scumbag\n",
      "Westbound Sign\n",
      "Deadbeat Holiday\n",
      "2000 Light Years Away\n",
      "Jackass\n",
      "Stuart and the Ave.\n",
      "Outsider\n",
      "Tight Wad Hill\n",
      "Jesus Of Suburbia / City Of The Damned / I Don't Care / Dearly Beloved / Tales Of Another Broken Home\n",
      "Suffocate\n",
      "Poprocks & Coke\n",
      "Long View\n",
      "Ha Ha You're Dead\n"
     ]
    }
   ],
   "source": [
    "for track in Tracks:\n",
    "    print(track.item.get_name())\n",
    "    Track_Tags = track.item.get_top_tags()\n",
    "    #print(Track_Tags)\n",
    "    for tag in Track_Tags:\n",
    "        if tag.item.get_name() not in ALL_Tags:\n",
    "            ALL_Tags.append(tag.item.get_name())\n",
    "        #print(tag.item.get_name())\n",
    "    #break"
   ]
  },
  {
   "cell_type": "code",
   "execution_count": 74,
   "metadata": {},
   "outputs": [
    {
     "data": {
      "text/plain": [
       "1940"
      ]
     },
     "execution_count": 74,
     "metadata": {},
     "output_type": "execute_result"
    }
   ],
   "source": [
    "len(ALL_Tags)"
   ]
  },
  {
   "cell_type": "code",
   "execution_count": 82,
   "metadata": {
    "scrolled": false
   },
   "outputs": [],
   "source": [
    "import codecs\n",
    "with codecs.open(\"Tag_May_Day.csv\",\"w\", encoding=\"utf8\") as outfile:\n",
    "    for track in Tracks:\n",
    "        outfile.write(track.item.get_name())\n",
    "        Track_Tags = track.item.get_top_tags()\n",
    "        outfile.write(\",\")\n",
    "        for tag in Track_Tags:\n",
    "            outfile.write(tag.item.get_name())\n",
    "            outfile.write(\",\")\n",
    "        outfile.write('\\n')\n"
   ]
  },
  {
   "cell_type": "code",
   "execution_count": null,
   "metadata": {},
   "outputs": [],
   "source": []
  }
 ],
 "metadata": {
  "kernelspec": {
   "display_name": "Python 3",
   "language": "python",
   "name": "python3"
  },
  "language_info": {
   "codemirror_mode": {
    "name": "ipython",
    "version": 3
   },
   "file_extension": ".py",
   "mimetype": "text/x-python",
   "name": "python",
   "nbconvert_exporter": "python",
   "pygments_lexer": "ipython3",
   "version": "3.6.4"
  }
 },
 "nbformat": 4,
 "nbformat_minor": 2
}
